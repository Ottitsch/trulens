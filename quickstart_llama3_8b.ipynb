﻿{
    "cells":  [
                  {
                      "cell_type":  "code",
                      "execution_count":  1,
                      "id":  "244b2eff",
                      "metadata":  {
                                       "title":  "Ollama Setup"
                                   },
                      "outputs":  [
                                      {
                                          "name":  "stdout",
                                          "output_type":  "stream",
                                          "text":  [
                                                       "OPENAI_BASE_URL -\u003e http://localhost:11434/v1\n",
                                                       "OPENAI_API_KEY  -\u003e (set)\n"
                                                   ]
                                      }
                                  ],
                      "source":  [
                                     "# === Ollama local setup ===\n",
                                     "# This cell forces all OpenAI-compatible calls to target your local Ollama server.\n",
                                     "import os\n",
                                     "os.environ[\"OPENAI_BASE_URL\"] = \"http://localhost:11434/v1\"\n",
                                     "os.environ[\"OPENAI_API_KEY\"] = \"ollama\"   # any non-empty string works\n",
                                     "\n",
                                     "print(\"OPENAI_BASE_URL -\u003e\", os.environ.get(\"OPENAI_BASE_URL\"))\n",
                                     "print(\"OPENAI_API_KEY  -\u003e\", \"(set)\" if os.environ.get(\"OPENAI_API_KEY\") else \"(missing)\")"
                                 ]
                  },
                  {
                      "cell_type":  "markdown",
                      "metadata":  {
                                       "id":  "4kT3JPIPANTi"
                                   },
                      "source":  [
                                     "# ðŸ““ TruLens Quickstart\n",
                                     "\n",
                                     "In this quickstart you will create a RAG from scratch, trace the execution and get feedback on an LLM response.\n",
                                     "\n",
                                     "For evaluation, we will leverage the \\\"hallucination triad\\\" of groundedness, context relevance and answer relevance.\n",
                                     "\n",
                                     "[![Open In Colab](https://colab.research.google.com/assets/colab-badge.svg)](https://colab.research.google.com/github/truera/trulens/blob/main/examples/quickstart/quickstart.ipynb)"
                                 ]
                  },
                  {
                      "cell_type":  "code",
                      "execution_count":  2,
                      "metadata":  {

                                   },
                      "outputs":  [

                                  ],
                      "source":  [
                                     "#!pip install ollama"
                                 ]
                  },
                  {
                      "cell_type":  "code",
                      "execution_count":  3,
                      "metadata":  {
                                       "id":  "Cm-PmWUsANTj"
                                   },
                      "outputs":  [

                                  ],
                      "source":  [
                                     " #!pip install trulens trulens-providers-openai chromadb openai"
                                 ]
                  },
                  {
                      "cell_type":  "code",
                      "execution_count":  4,
                      "metadata":  {
                                       "id":  "hnj5FUDOANTj"
                                   },
                      "outputs":  [

                                  ],
                      "source":  [
                                     "import os\n",
                                     "\n",
                                     "if \"OPENAI_API_KEY\" not in os.environ:\n",
                                     "    os.environ[\"OPENAI_API_KEY\"] = \"sk-proj-...\""
                                 ]
                  },
                  {
                      "cell_type":  "markdown",
                      "metadata":  {
                                       "id":  "A2zD6e3NANTk"
                                   },
                      "source":  [
                                     "## Get Data\n",
                                     "\n",
                                     "In this case, we\u0027ll just initialize some simple text in the notebook."
                                 ]
                  },
                  {
                      "cell_type":  "code",
                      "execution_count":  5,
                      "metadata":  {
                                       "id":  "75e9uKc_ANTk"
                                   },
                      "outputs":  [

                                  ],
                      "source":  [
                                     "seattle_info = \"\"\"\n",
                                     "Seattle, a city on Puget Sound in the Pacific Northwest, is surrounded by water, mountains and evergreen forests, and contains thousands of acres of parkland.\n",
                                     "It\u0027s home to a large tech industry, with Microsoft and Amazon headquartered in its metropolitan area.\n",
                                     "The futuristic Space Needle, a legacy of the 1962 World\u0027s Fair, is its most iconic landmark.\n",
                                     "\"\"\"\n",
                                     "\n",
                                     "starbucks_info = \"\"\"\n",
                                     "Starbucks Corporation is an American multinational chain of coffeehouses and roastery reserves headquartered in Seattle, Washington.\n",
                                     "As the world\u0027s largest coffeehouse chain, Starbucks is seen to be the main representation of the United States\u0027 second wave of coffee culture.\n",
                                     "\"\"\"\n",
                                     "\n",
                                     "coffee_culture_info = \"\"\"\n",
                                     "Coffee culture has evolved through three distinct waves. The first wave focused on convenience and mass production,\n",
                                     "exemplified by brands like Folgers and Maxwell House. The second wave, led by Starbucks, introduced espresso-based drinks,\n",
                                     "customization, and the cafe as a \u0027third place\u0027 between work and home. The third wave treats coffee as artisanal food,\n",
                                     "emphasizing origin, processing methods, and brewing techniques.\n",
                                     "\"\"\"\n",
                                     "\n",
                                     "seattle_coffee_info = \"\"\"\n",
                                     "Seattle became the epicenter of American coffee culture, birthplace of Starbucks in 1971, and home to numerous independent roasters.\n",
                                     "The city\u0027s coffee scene has evolved from the second wave dominance of Starbucks to embrace third wave coffee shops\n",
                                     "that focus on single-origin beans and precise brewing methods.\n",
                                     "\"\"\"\n",
                                     "\n",
                                     "ocean_waves_info = \"\"\"\n",
                                     "Ocean waves along the United States coastline provide significant renewable energy opportunities through wave power generation.\n",
                                     "The Pacific Northwest, particularly off the coasts of Washington and Oregon, has some of the best wave energy resources in the nation.\n",
                                     "Wave energy converters can harness this power to generate electricity.\n",
                                     "\"\"\"\n",
                                     "\n",
                                     "radio_waves_info = \"\"\"\n",
                                     "Radio waves were first successfully transmitted across the Atlantic Ocean in 1901 by Guglielmo Marconi.\n",
                                     "In the United States, radio wave technology revolutionized communication and entertainment throughout the 20th century.\n",
                                     "The Federal Communications Commission regulates radio wave frequencies to prevent interference.\n",
                                     "\"\"\"\n",
                                     "\n",
                                     "starbucks_stock_info = \"\"\"\n",
                                     "Starbucks Corporation (NASDAQ: SBUX) has shown volatile stock performance in recent years, influenced by market trends,\n",
                                     "expansion strategies, and consumer spending patterns. The company\u0027s stock price reflects broader economic conditions\n",
                                     "and competition in the quick-service restaurant sector.\n",
                                     "\"\"\"\n",
                                     "\n",
                                     "heat_waves_info = \"\"\"\n",
                                     "Heat waves in the United States have become more frequent and intense due to climate change.\n",
                                     "The Pacific Northwest, including Washington State, experienced record-breaking temperatures in recent heat waves,\n",
                                     "challenging infrastructure designed for milder climates.\n",
                                     "\"\"\""
                                 ]
                  },
                  {
                      "cell_type":  "markdown",
                      "metadata":  {
                                       "id":  "EiDKyZ21ANTk"
                                   },
                      "source":  [
                                     "## Create Vector Store\n",
                                     "\n",
                                     "Create a chromadb vector store in memory."
                                 ]
                  },
                  {
                      "cell_type":  "code",
                      "execution_count":  6,
                      "metadata":  {
                                       "id":  "NgV6QoCDANTl"
                                   },
                      "outputs":  [

                                  ],
                      "source":  [
                                     "import chromadb\n",
                                     "from chromadb.utils.embedding_functions import OpenAIEmbeddingFunction, OllamaEmbeddingFunction\n",
                                     "\n",
                                     "embedding_function = OllamaEmbeddingFunction(\n",
                                     "    model_name=\"nomic-embed-text\", \n",
                                     "    url=\"http://localhost:11434\"\n",
                                     ")\n",
                                     "\n",
                                     "chroma_client = chromadb.Client()\n",
                                     "vector_store = chroma_client.get_or_create_collection(\n",
                                     "    name=\"Washington\", embedding_function=embedding_function\n",
                                     ")"
                                 ]
                  },
                  {
                      "cell_type":  "markdown",
                      "metadata":  {
                                       "id":  "PrkUhV8bANTl"
                                   },
                      "source":  [
                                     "Populate the vector store."
                                 ]
                  },
                  {
                      "cell_type":  "code",
                      "execution_count":  7,
                      "metadata":  {
                                       "id":  "IN7D9CXZANTl"
                                   },
                      "outputs":  [

                                  ],
                      "source":  [
                                     "vector_store.add(\"seattle_info\", documents=seattle_info)\n",
                                     "vector_store.add(\"starbucks_info\", documents=starbucks_info)\n",
                                     "vector_store.add(\"coffee_culture_info\", documents=coffee_culture_info)\n",
                                     "vector_store.add(\"seattle_coffee_info\", documents=seattle_coffee_info)\n",
                                     "vector_store.add(\"ocean_waves_info\", documents=ocean_waves_info)\n",
                                     "vector_store.add(\"radio_waves_info\", documents=radio_waves_info)\n",
                                     "vector_store.add(\"starbucks_stock_info\", documents=starbucks_stock_info)\n",
                                     "vector_store.add(\"heat_waves_info\", documents=heat_waves_info)"
                                 ]
                  },
                  {
                      "cell_type":  "markdown",
                      "metadata":  {
                                       "id":  "Zd-oaF4tANTm"
                                   },
                      "source":  [
                                     "## Build RAG from scratch\n",
                                     "\n",
                                     "Build a custom RAG from scratch, and add TruLens custom instrumentation."
                                 ]
                  },
                  {
                      "cell_type":  "code",
                      "execution_count":  8,
                      "metadata":  {
                                       "id":  "ENf5obq7ANTm"
                                   },
                      "outputs":  [
                                      {
                                          "name":  "stdout",
                                          "output_type":  "stream",
                                          "text":  [
                                                       "ðŸ¦‘ Initialized with db url sqlite:///default.sqlite .\n",
                                                       "ðŸ›‘ Secret keys may be written to the database. See the `database_redact_keys` option of `TruSession` to prevent this.\n",
                                                       "âœ… experimental otel_tracing enabled.\n",
                                                       "ðŸ”’ experimental otel_tracing is enabled and cannot be changed.\n",
                                                       "âœ… experimental otel_tracing enabled.\n",
                                                       "ðŸ”’ experimental otel_tracing is enabled and cannot be changed.\n"
                                                   ]
                                      },
                                      {
                                          "name":  "stdout",
                                          "output_type":  "stream",
                                          "text":  [
                                                       "ðŸ¦‘ Initialized with db url sqlite:///default.sqlite .\n",
                                                       "ðŸ›‘ Secret keys may be written to the database. See the `database_redact_keys` option of `TruSession` to prevent this.\n",
                                                       "âœ… experimental otel_tracing enabled.\n",
                                                       "ðŸ”’ experimental otel_tracing is enabled and cannot be changed.\n",
                                                       "âœ… experimental otel_tracing enabled.\n",
                                                       "ðŸ”’ experimental otel_tracing is enabled and cannot be changed.\n"
                                                   ]
                                      },
                                      {
                                          "name":  "stderr",
                                          "output_type":  "stream",
                                          "text":  [
                                                       "Updating app_name and app_version in apps table: 0it [00:00, ?it/s]\n",
                                                       "Updating app_name and app_version in apps table: 0it [00:00, ?it/s]\n",
                                                       "Updating app_id in records table: 0it [00:00, ?it/s]\n",
                                                       "Updating app_id in records table: 0it [00:00, ?it/s]\n",
                                                       "Updating app_json in apps table: 0it [00:00, ?it/s]\n",
                                                       "\n"
                                                   ]
                                      }
                                  ],
                      "source":  [
                                     "from trulens.core import TruSession\n",
                                     "\n",
                                     "session = TruSession()\n",
                                     "session.reset_database()"
                                 ]
                  },
                  {
                      "cell_type":  "code",
                      "execution_count":  9,
                      "metadata":  {
                                       "id":  "6KyG4wxFANTm"
                                   },
                      "outputs":  [

                                  ],
                      "source":  [
                                     "from openai import OpenAI\n",
                                     "from trulens.core.otel.instrument import instrument\n",
                                     "from trulens.otel.semconv.trace import SpanAttributes\n",
                                     "\n",
                                     "oai_client = OpenAI()\n",
                                     "\n",
                                     "\n",
                                     "class RAG:\n",
                                     "    def __init__(self, model_name: str = \"llama3.1:8b\"):\n",
                                     "        self.model_name = model_name\n",
                                     "\n",
                                     "    @instrument(\n",
                                     "        span_type=SpanAttributes.SpanType.RETRIEVAL,\n",
                                     "        attributes={\n",
                                     "            SpanAttributes.RETRIEVAL.QUERY_TEXT: \"query\",\n",
                                     "            SpanAttributes.RETRIEVAL.RETRIEVED_CONTEXTS: \"return\",\n",
                                     "        },\n",
                                     "    )\n",
                                     "    def retrieve(self, query: str) -\u003e list:\n",
                                     "        results = vector_store.query(\n",
                                     "            query_texts=query, n_results=4\n",
                                     "        )  # Get more results\n",
                                     "        return [doc for sublist in results[\"documents\"] for doc in sublist]\n",
                                     "\n",
                                     "    @instrument(span_type=SpanAttributes.SpanType.GENERATION)\n",
                                     "    def generate_completion(self, query: str, context_list: list) -\u003e str:\n",
                                     "        \"\"\"Generate answer from context with improved prompting.\"\"\"\n",
                                     "        if len(context_list) == 0:\n",
                                     "            return \"I don\u0027t have enough relevant information to answer this question.\"\n",
                                     "\n",
                                     "        # Join context if it\u0027s a list\n",
                                     "        context = (\n",
                                     "            \"\\n---\\n\".join(context_list)\n",
                                     "            if isinstance(context_list, list)\n",
                                     "            else context_list\n",
                                     "        )\n",
                                     "\n",
                                     "        completion = (\n",
                                     "            oai_client.chat.completions.create(\n",
                                     "                model=self.model_name,\n",
                                     "                messages=[\n",
                                     "                    {\n",
                                     "                        \"role\": \"system\",\n",
                                     "                        \"content\": \"You are a helpful assistant. \",\n",
                                     "                    },\n",
                                     "                    {\n",
                                     "                        \"role\": \"user\",\n",
                                     "                        \"content\": f\"Context:\\n{context}\\n\\nQuestion: {query}\\n\\nAnswer using the context above:\",\n",
                                     "                    },\n",
                                     "                ],\n",
                                     "            )\n",
                                     "            .choices[0]\n",
                                     "            .message.content\n",
                                     "        )\n",
                                     "        return (\n",
                                     "            completion\n",
                                     "            if completion\n",
                                     "            else \"I don\u0027t have enough information to answer this question.\"\n",
                                     "        )\n",
                                     "\n",
                                     "    @instrument(\n",
                                     "        span_type=SpanAttributes.SpanType.RECORD_ROOT,\n",
                                     "        attributes={\n",
                                     "            SpanAttributes.RECORD_ROOT.INPUT: \"query\",\n",
                                     "            SpanAttributes.RECORD_ROOT.OUTPUT: \"return\",\n",
                                     "        },\n",
                                     "    )\n",
                                     "    def query(self, query: str) -\u003e str:\n",
                                     "        context_list = self.retrieve(query=query)\n",
                                     "        completion = self.generate_completion(\n",
                                     "            query=query, context_list=context_list\n",
                                     "        )\n",
                                     "        return completion"
                                 ]
                  },
                  {
                      "cell_type":  "markdown",
                      "metadata":  {
                                       "id":  "slP159fZANTm"
                                   },
                      "source":  [
                                     "## Feedback functions"
                                 ]
                  },
                  {
                      "cell_type":  "code",
                      "execution_count":  10,
                      "metadata":  {
                                       "id":  "1N2dX0TYANTm"
                                   },
                      "outputs":  [

                                  ],
                      "source":  [
                                     "import numpy as np\n",
                                     "from trulens.core import Feedback\n",
                                     "from trulens.providers.openai import OpenAI\n",
                                     "\n",
                                     "provider = OpenAI(model_engine=\"llama3.1:8b\")\n",
                                     "\n",
                                     "# Define a groundedness feedback function\n",
                                     "f_groundedness = (\n",
                                     "    Feedback(\n",
                                     "        provider.groundedness_measure_with_cot_reasons_consider_answerability,\n",
                                     "        name=\"Groundedness\",\n",
                                     "    )\n",
                                     "    .on_context(collect_list=True)\n",
                                     "    .on_output()\n",
                                     "    .on_input()\n",
                                     ")\n",
                                     "# Question/answer relevance between overall question and answer.\n",
                                     "f_answer_relevance = (\n",
                                     "    Feedback(provider.relevance_with_cot_reasons, name=\"Answer Relevance\")\n",
                                     "    .on_input()\n",
                                     "    .on_output()\n",
                                     ")\n",
                                     "\n",
                                     "# Context relevance between question and each context chunk.\n",
                                     "f_context_relevance = (\n",
                                     "    Feedback(\n",
                                     "        provider.context_relevance_with_cot_reasons, name=\"Context Relevance\"\n",
                                     "    )\n",
                                     "    .on_input()\n",
                                     "    .on_context(collect_list=False)\n",
                                     "    .aggregate(np.mean)  # choose a different aggregation method if you wish\n",
                                     ")"
                                 ]
                  },
                  {
                      "cell_type":  "markdown",
                      "metadata":  {
                                       "id":  "SXzNJBicANTn"
                                   },
                      "source":  [
                                     "## Construct the app\n",
                                     "Wrap the custom RAG with TruApp, add list of feedbacks for eval"
                                 ]
                  },
                  {
                      "cell_type":  "code",
                      "execution_count":  11,
                      "metadata":  {
                                       "id":  "Thsml17tANTn"
                                   },
                      "outputs":  [
                                      {
                                          "name":  "stderr",
                                          "output_type":  "stream",
                                          "text":  [
                                                       "WARNI [trulens.feedback.computer] feedback_name=Groundedness, record=cb52765e-7e18-47a6-a409-bdcad52f0b6f, span_group=None had an error during computation:\n",
                                                       "Endpoint OpenAIEndpoint request failed 4 time(s): \n",
                                                       "\t404 page not found\n",
                                                       "\t404 page not found\n",
                                                       "\t404 page not found\n",
                                                       "\t404 page not found\n",
                                                       "WARNI [trulens.feedback.computer] feedback_name=Answer Relevance, record=cb52765e-7e18-47a6-a409-bdcad52f0b6f, span_group=None had an error during computation:\n",
                                                       "Endpoint OpenAIEndpoint request failed 4 time(s): \n",
                                                       "\t404 page not found\n",
                                                       "\t404 page not found\n",
                                                       "\t404 page not found\n",
                                                       "\t404 page not found\n",
                                                       "WARNI [trulens.feedback.computer] feedback_name=Answer Relevance, record=cb52765e-7e18-47a6-a409-bdcad52f0b6f, span_group=None had an error during computation:\n",
                                                       "Endpoint OpenAIEndpoint request failed 4 time(s): \n",
                                                       "\t404 page not found\n",
                                                       "\t404 page not found\n",
                                                       "\t404 page not found\n",
                                                       "\t404 page not found\n",
                                                       "WARNI [trulens.feedback.computer] feedback_name=Context Relevance, record=cb52765e-7e18-47a6-a409-bdcad52f0b6f, span_group=None had an error during computation:\n",
                                                       "Endpoint OpenAIEndpoint request failed 4 time(s): \n",
                                                       "\t404 page not found\n",
                                                       "\t404 page not found\n",
                                                       "\t404 page not found\n",
                                                       "\t404 page not found\n",
                                                       "WARNI [trulens.feedback.computer] feedback_name=Context Relevance, record=cb52765e-7e18-47a6-a409-bdcad52f0b6f, span_group=None had an error during computation:\n",
                                                       "Endpoint OpenAIEndpoint request failed 4 time(s): \n",
                                                       "\t404 page not found\n",
                                                       "\t404 page not found\n",
                                                       "\t404 page not found\n",
                                                       "\t404 page not found\n"
                                                   ]
                                      }
                                  ],
                      "source":  [
                                     "from trulens.apps.app import TruApp\n",
                                     "\n",
                                     "rag = RAG(model_name=\"llama3.1:8b\")\n",
                                     "\n",
                                     "tru_rag = TruApp(\n",
                                     "    rag,\n",
                                     "    app_name=\"RAG\",\n",
                                     "    app_version=\"base\",\n",
                                     "    feedbacks=[f_groundedness, f_answer_relevance, f_context_relevance],\n",
                                     ")"
                                 ]
                  },
                  {
                      "cell_type":  "markdown",
                      "metadata":  {
                                       "id":  "B7YZdCZBANTn"
                                   },
                      "source":  [
                                     "## Run the app\n",
                                     "Use `tru_rag` as a context manager for the custom RAG-from-scratch app."
                                 ]
                  },
                  {
                      "cell_type":  "code",
                      "execution_count":  12,
                      "metadata":  {
                                       "id":  "x5rga09VANTn"
                                   },
                      "outputs":  [

                                  ],
                      "source":  [
                                     "test_queries = [\n",
                                     "    \"What wave of coffee culture does Starbucks represent?\",\n",
                                     "    \"Describe climate challenges for Starbucks.\",\n",
                                     "]"
                                 ]
                  },
                  {
                      "cell_type":  "code",
                      "execution_count":  13,
                      "metadata":  {
                                       "id":  "UG0_1BAeANTn"
                                   },
                      "outputs":  [

                                  ],
                      "source":  [
                                     "with tru_rag as recording:\n",
                                     "    for query in test_queries:\n",
                                     "        rag.query(query)"
                                 ]
                  },
                  {
                      "cell_type":  "markdown",
                      "metadata":  {
                                       "id":  "jqrYm7KgANTn"
                                   },
                      "source":  [
                                     "## Check results\n",
                                     "\n",
                                     "We can view results in the leaderboard."
                                 ]
                  },
                  {
                      "cell_type":  "code",
                      "execution_count":  14,
                      "metadata":  {
                                       "id":  "R7Y4Y-7AANTn"
                                   },
                      "outputs":  [
                                      {
                                          "data":  {
                                                       "application/vnd.microsoft.datawrangler.viewer.v0+json":  {
                                                                                                                     "columns":  [
                                                                                                                                     {
                                                                                                                                         "name":  "(\u0027app_name\u0027, \u0027app_version\u0027)",
                                                                                                                                         "rawType":  "object",
                                                                                                                                         "type":  "unknown"
                                                                                                                                     },
                                                                                                                                     {
                                                                                                                                         "name":  "latency",
                                                                                                                                         "rawType":  "float64",
                                                                                                                                         "type":  "float"
                                                                                                                                     },
                                                                                                                                     {
                                                                                                                                         "name":  "total_cost",
                                                                                                                                         "rawType":  "float64",
                                                                                                                                         "type":  "float"
                                                                                                                                     }
                                                                                                                                 ],
                                                                                                                     "ref":  "aecfa2dd-321b-4fba-9036-bc370af6f220",
                                                                                                                     "rows":  [
                                                                                                                                  [
                                                                                                                                      "(\u0027RAG\u0027, \u0027base\u0027)",
                                                                                                                                      "6.967911",
                                                                                                                                      "0.0"
                                                                                                                                  ]
                                                                                                                              ],
                                                                                                                     "shape":  {
                                                                                                                                   "columns":  2,
                                                                                                                                   "rows":  1
                                                                                                                               }
                                                                                                                 },
                                                       "text/html":  [
                                                                         "\u003cdiv\u003e\n",
                                                                         "\u003cstyle scoped\u003e\n",
                                                                         "    .dataframe tbody tr th:only-of-type {\n",
                                                                         "        vertical-align: middle;\n",
                                                                         "    }\n",
                                                                         "\n",
                                                                         "    .dataframe tbody tr th {\n",
                                                                         "        vertical-align: top;\n",
                                                                         "    }\n",
                                                                         "\n",
                                                                         "    .dataframe thead th {\n",
                                                                         "        text-align: right;\n",
                                                                         "    }\n",
                                                                         "\u003c/style\u003e\n",
                                                                         "\u003ctable border=\"1\" class=\"dataframe\"\u003e\n",
                                                                         "  \u003cthead\u003e\n",
                                                                         "    \u003ctr style=\"text-align: right;\"\u003e\n",
                                                                         "      \u003cth\u003e\u003c/th\u003e\n",
                                                                         "      \u003cth\u003e\u003c/th\u003e\n",
                                                                         "      \u003cth\u003elatency\u003c/th\u003e\n",
                                                                         "      \u003cth\u003etotal_cost\u003c/th\u003e\n",
                                                                         "    \u003c/tr\u003e\n",
                                                                         "    \u003ctr\u003e\n",
                                                                         "      \u003cth\u003eapp_name\u003c/th\u003e\n",
                                                                         "      \u003cth\u003eapp_version\u003c/th\u003e\n",
                                                                         "      \u003cth\u003e\u003c/th\u003e\n",
                                                                         "      \u003cth\u003e\u003c/th\u003e\n",
                                                                         "    \u003c/tr\u003e\n",
                                                                         "  \u003c/thead\u003e\n",
                                                                         "  \u003ctbody\u003e\n",
                                                                         "    \u003ctr\u003e\n",
                                                                         "      \u003cth\u003eRAG\u003c/th\u003e\n",
                                                                         "      \u003cth\u003ebase\u003c/th\u003e\n",
                                                                         "      \u003ctd\u003e6.967911\u003c/td\u003e\n",
                                                                         "      \u003ctd\u003e0.0\u003c/td\u003e\n",
                                                                         "    \u003c/tr\u003e\n",
                                                                         "  \u003c/tbody\u003e\n",
                                                                         "\u003c/table\u003e\n",
                                                                         "\u003c/div\u003e"
                                                                     ],
                                                       "text/plain":  [
                                                                          "                       latency  total_cost\n",
                                                                          "app_name app_version                      \n",
                                                                          "RAG      base         6.967911         0.0"
                                                                      ]
                                                   },
                                          "execution_count":  14,
                                          "metadata":  {

                                                       },
                                          "output_type":  "execute_result"
                                      }
                                  ],
                      "source":  [
                                     "session.get_leaderboard()"
                                 ]
                  },
                  {
                      "cell_type":  "code",
                      "execution_count":  null,
                      "metadata":  {
                                       "id":  "JghhXCiJANTn"
                                   },
                      "outputs":  [

                                  ],
                      "source":  [
                                     "from trulens.dashboard.run import stop_dashboard, run_dashboard",
                                     "# Gracefully stop any dashboard started in this session (no force on Windows)",
                                     "try:",
                                     "    stop_dashboard(session)",
                                     "except Exception:",
                                     "    pass",
                                     "# Start a fresh dashboard on a free port bound to localhost",
                                     "proc = run_dashboard(session=session, address=\"localhost\")"
                                 ]
                  },
                  {
                      "cell_type":  "code",
                      "execution_count":  null,
                      "id":  "6313fe04",
                      "metadata":  {
                                       "title":  "Sanity Check"
                                   },
                      "outputs":  [

                                  ],
                      "source":  [
                                     "# Sanity Check",
                                     "print(\"Intended local chat model -\u003e \u0027llama3.1:8b\u0027\")",
                                     "print(\"Intended local embedding   -\u003e \u0027nomic-embed-text\u0027 @ http://localhost:11434\")"
                                 ]
                  }
              ],
    "metadata":  {
                     "colab":  {
                                   "provenance":  [

                                                  ]
                               },
                     "kernelspec":  {
                                        "display_name":  "venv",
                                        "language":  "python",
                                        "name":  "python3"
                                    },
                     "language_info":  {
                                           "codemirror_mode":  {
                                                                   "name":  "ipython",
                                                                   "version":  3
                                                               },
                                           "file_extension":  ".py",
                                           "mimetype":  "text/x-python",
                                           "name":  "python",
                                           "nbconvert_exporter":  "python",
                                           "pygments_lexer":  "ipython3",
                                           "version":  "3.10.11"
                                       }
                 },
    "nbformat":  4,
    "nbformat_minor":  0
}
